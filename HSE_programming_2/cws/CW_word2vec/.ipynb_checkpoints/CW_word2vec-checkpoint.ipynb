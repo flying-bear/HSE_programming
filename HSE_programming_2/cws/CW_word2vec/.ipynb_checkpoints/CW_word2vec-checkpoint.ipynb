{
 "cells": [
  {
   "cell_type": "code",
   "execution_count": 3,
   "metadata": {},
   "outputs": [
    {
     "name": "stderr",
     "output_type": "stream",
     "text": [
      "C:\\ProgramData\\Anaconda3\\lib\\site-packages\\gensim\\utils.py:1197: UserWarning: detected Windows; aliasing chunkize to chunkize_serial\n",
      "  warnings.warn(\"detected Windows; aliasing chunkize to chunkize_serial\")\n"
     ]
    },
    {
     "name": "stdout",
     "output_type": "stream",
     "text": [
      "'pattern' package not found; tag filters are not available for English\n"
     ]
    }
   ],
   "source": [
    "import sys\n",
    "import gensim, logging\n",
    "\n",
    "logging.basicConfig(format='%(asctime)s : %(levelname)s : %(message)s', level=logging.INFO)"
   ]
  },
  {
   "cell_type": "code",
   "execution_count": 2,
   "metadata": {},
   "outputs": [
    {
     "name": "stdout",
     "output_type": "stream",
     "text": [
      "Collecting gensim\n"
     ]
    },
    {
     "name": "stderr",
     "output_type": "stream",
     "text": [
      "  Cache entry deserialization failed, entry ignored\n"
     ]
    },
    {
     "name": "stdout",
     "output_type": "stream",
     "text": [
      "  Downloading https://files.pythonhosted.org/packages/eb/b5/e74d478d9e89528cc869c52a6d794f5a7dc5452585e23ad24db513636dc1/gensim-3.4.0-cp36-cp36m-win_amd64.whl (22.5MB)\n",
      "Requirement already satisfied: six>=1.5.0 in c:\\programdata\\anaconda3\\lib\\site-packages (from gensim)\n",
      "Requirement already satisfied: scipy>=0.18.1 in c:\\programdata\\anaconda3\\lib\\site-packages (from gensim)\n",
      "Requirement already satisfied: numpy>=1.11.3 in c:\\programdata\\anaconda3\\lib\\site-packages (from gensim)\n",
      "Collecting smart-open>=1.2.1 (from gensim)\n"
     ]
    },
    {
     "name": "stderr",
     "output_type": "stream",
     "text": [
      "  Cache entry deserialization failed, entry ignored\n",
      "  Cache entry deserialization failed, entry ignored\n"
     ]
    },
    {
     "name": "stdout",
     "output_type": "stream",
     "text": [
      "  Downloading https://files.pythonhosted.org/packages/4b/69/c92661a333f733510628f28b8282698b62cdead37291c8491f3271677c02/smart_open-1.5.7.tar.gz\n",
      "Requirement already satisfied: boto>=2.32 in c:\\programdata\\anaconda3\\lib\\site-packages (from smart-open>=1.2.1->gensim)\n",
      "Collecting bz2file (from smart-open>=1.2.1->gensim)\n"
     ]
    },
    {
     "name": "stderr",
     "output_type": "stream",
     "text": [
      "  Cache entry deserialization failed, entry ignored\n",
      "  Cache entry deserialization failed, entry ignored\n"
     ]
    },
    {
     "name": "stdout",
     "output_type": "stream",
     "text": [
      "  Downloading https://files.pythonhosted.org/packages/61/39/122222b5e85cd41c391b68a99ee296584b2a2d1d233e7ee32b4532384f2d/bz2file-0.98.tar.gz\n",
      "Requirement already satisfied: requests in c:\\programdata\\anaconda3\\lib\\site-packages (from smart-open>=1.2.1->gensim)\n",
      "Collecting boto3 (from smart-open>=1.2.1->gensim)\n"
     ]
    },
    {
     "name": "stderr",
     "output_type": "stream",
     "text": [
      "  Cache entry deserialization failed, entry ignored\n"
     ]
    },
    {
     "name": "stdout",
     "output_type": "stream",
     "text": [
      "  Downloading https://files.pythonhosted.org/packages/ad/0d/14f29bebb6f93362da511dd4299d0dee2fb19d294657ae2c1f4adfb930a6/boto3-1.7.28-py2.py3-none-any.whl (128kB)\n",
      "Collecting jmespath<1.0.0,>=0.7.1 (from boto3->smart-open>=1.2.1->gensim)\n"
     ]
    },
    {
     "name": "stderr",
     "output_type": "stream",
     "text": [
      "  Cache entry deserialization failed, entry ignored\n",
      "  Cache entry deserialization failed, entry ignored\n"
     ]
    },
    {
     "name": "stdout",
     "output_type": "stream",
     "text": [
      "  Downloading https://files.pythonhosted.org/packages/b7/31/05c8d001f7f87f0f07289a5fc0fc3832e9a57f2dbd4d3b0fee70e0d51365/jmespath-0.9.3-py2.py3-none-any.whl\n",
      "Collecting botocore<1.11.0,>=1.10.28 (from boto3->smart-open>=1.2.1->gensim)\n"
     ]
    },
    {
     "name": "stderr",
     "output_type": "stream",
     "text": [
      "  Cache entry deserialization failed, entry ignored\n"
     ]
    },
    {
     "name": "stdout",
     "output_type": "stream",
     "text": [
      "  Downloading https://files.pythonhosted.org/packages/2e/91/f0870d4de8eb78897ce781f3ff22fc492bbb9849b5c91f26db20b125ef36/botocore-1.10.28-py2.py3-none-any.whl (4.2MB)\n",
      "Collecting s3transfer<0.2.0,>=0.1.10 (from boto3->smart-open>=1.2.1->gensim)\n"
     ]
    },
    {
     "name": "stderr",
     "output_type": "stream",
     "text": [
      "  Cache entry deserialization failed, entry ignored\n",
      "  Cache entry deserialization failed, entry ignored\n"
     ]
    },
    {
     "name": "stdout",
     "output_type": "stream",
     "text": [
      "  Downloading https://files.pythonhosted.org/packages/d7/14/2a0004d487464d120c9fb85313a75cd3d71a7506955be458eebfe19a6b1d/s3transfer-0.1.13-py2.py3-none-any.whl (59kB)\n",
      "Requirement already satisfied: python-dateutil<3.0.0,>=2.1; python_version >= \"2.7\" in c:\\programdata\\anaconda3\\lib\\site-packages (from botocore<1.11.0,>=1.10.28->boto3->smart-open>=1.2.1->gensim)\n",
      "Requirement already satisfied: docutils>=0.10 in c:\\programdata\\anaconda3\\lib\\site-packages (from botocore<1.11.0,>=1.10.28->boto3->smart-open>=1.2.1->gensim)\n",
      "Building wheels for collected packages: smart-open, bz2file\n",
      "  Running setup.py bdist_wheel for smart-open: started\n",
      "  Running setup.py bdist_wheel for smart-open: finished with status 'done'\n",
      "  Stored in directory: C:\\Users\\LGPC\\AppData\\Local\\pip\\Cache\\wheels\\b1\\9e\\7d\\bb3d3b55c597e72617140a0638c06382a5f17283881eae163e\n",
      "  Running setup.py bdist_wheel for bz2file: started\n",
      "  Running setup.py bdist_wheel for bz2file: finished with status 'done'\n",
      "  Stored in directory: C:\\Users\\LGPC\\AppData\\Local\\pip\\Cache\\wheels\\81\\75\\d6\\e1317bf09bf1af5a30befc2a007869fa6e1f516b8f7c591cb9\n",
      "Successfully built smart-open bz2file\n",
      "Installing collected packages: bz2file, jmespath, botocore, s3transfer, boto3, smart-open, gensim\n",
      "Successfully installed boto3-1.7.28 botocore-1.10.28 bz2file-0.98 gensim-3.4.0 jmespath-0.9.3 s3transfer-0.1.13 smart-open-1.5.7\n"
     ]
    },
    {
     "name": "stderr",
     "output_type": "stream",
     "text": [
      "You are using pip version 9.0.1, however version 10.0.1 is available.\n",
      "You should consider upgrading via the 'python -m pip install --upgrade pip' command.\n"
     ]
    },
    {
     "data": {
      "text/plain": [
       "0"
      ]
     },
     "execution_count": 2,
     "metadata": {},
     "output_type": "execute_result"
    }
   ],
   "source": [
    "import pip\n",
    "pip.main(['install', 'gensim'])"
   ]
  },
  {
   "cell_type": "code",
   "execution_count": 4,
   "metadata": {},
   "outputs": [
    {
     "name": "stdout",
     "output_type": "stream",
     "text": [
      "loading projection weights from ruscorpora_upos_skipgram_300_5_2018.vec.gz\n",
      "loaded (195071, 300) matrix from ruscorpora_upos_skipgram_300_5_2018.vec.gz\n"
     ]
    }
   ],
   "source": [
    "m = 'ruscorpora_upos_skipgram_300_5_2018.vec.gz'\n",
    "if m.endswith('.vec.gz'):\n",
    "    model = gensim.models.KeyedVectors.load_word2vec_format(m, binary=False)\n",
    "elif m.endswith('.bin.gz'):\n",
    "    model = gensim.models.KeyedVectors.load_word2vec_format(m, binary=True)\n",
    "else:\n",
    "    model = gensim.models.KeyedVectors.load(m)"
   ]
  },
  {
   "cell_type": "code",
   "execution_count": 5,
   "metadata": {},
   "outputs": [
    {
     "name": "stdout",
     "output_type": "stream",
     "text": [
      "precomputing L2-norms of word weight vectors\n"
     ]
    }
   ],
   "source": [
    "model.init_sims(replace=True)"
   ]
  },
  {
   "cell_type": "code",
   "execution_count": 8,
   "metadata": {
    "collapsed": true
   },
   "outputs": [],
   "source": [
    "words = ['смерть_NOUN', 'сон_NOUN', 'шизофрения_NOUN', 'гомология_NOUN', 'эпистемология_NOUN']"
   ]
  },
  {
   "cell_type": "code",
   "execution_count": 9,
   "metadata": {},
   "outputs": [
    {
     "name": "stdout",
     "output_type": "stream",
     "text": [
      "смерть_NOUN\n",
      "[-0.070165 -0.045787  0.021673 -0.016429  0.108342  0.071788 -0.011505\n",
      " -0.052397  0.011844 -0.038412]\n",
      "кончина_NOUN 0.7027133703231812\n",
      "смерть_PROPN 0.7007548809051514\n",
      "смертитраница_NOUN 0.652170717716217\n",
      "смерти_NOUN 0.6423308849334717\n",
      "умирать_VERB 0.6356273889541626\n",
      "гибель_NOUN 0.616476833820343\n",
      "смертьютраница_NOUN 0.6159781813621521\n",
      "поправ_NOUN 0.592582106590271\n",
      "смертий_NOUN 0.583081841468811\n",
      "воскреснуть::христос_PROPN 0.5395397543907166\n",
      "\n",
      "\n",
      "сон_NOUN\n",
      "[-0.09579304  0.04343702 -0.05134102 -0.01468801  0.08754904  0.10091905\n",
      "  0.11363205 -0.000995   -0.02021001 -0.00666   ]\n",
      "сновидение_NOUN 0.745663583278656\n",
      "сномтраница_NOUN 0.6956750750541687\n",
      "наяву_ADV 0.6953468322753906\n",
      "полусон_NOUN 0.693878173828125\n",
      "снатраница_NOUN 0.6710544228553772\n",
      "снетраница_VERB 0.6705219149589539\n",
      "снетраница_NOUN 0.6657857894897461\n",
      "сонотреть_NOUN 0.6645662784576416\n",
      "полуявь_NOUN 0.6635149717330933\n",
      "дремота_NOUN 0.65419602394104\n",
      "\n",
      "\n",
      "шизофрения_NOUN\n",
      "[ 0.03645798  0.06597297  0.06204997 -0.04249498  0.003882    0.10741795\n",
      "  0.006603   -0.02664499  0.003918   -0.04009298]\n",
      "психоз_NOUN 0.7801232933998108\n",
      "шизофрения_PROPN 0.7695947885513306\n",
      "-депрессивный_ADJ 0.7679588794708252\n",
      "генуинный_ADJ 0.755602240562439\n",
      "параноидный_ADJ 0.7496469020843506\n",
      "психастение_NOUN 0.7433643341064453\n",
      "пресенильный_ADJ 0.7431949377059937\n",
      "эпилепсия_NOUN 0.7401126623153687\n",
      "психопатия_NOUN 0.7376760244369507\n",
      "симптомокомплекс_NOUN 0.7366418838500977\n",
      "\n",
      "\n",
      "гомология_NOUN\n",
      "[ 0.07324205  0.06180804  0.02911602 -0.15515409  0.03350602  0.02163201\n",
      " -0.02365601 -0.08565605 -0.01303401  0.05503303]\n",
      "прототипный_ADJ 0.8047619462013245\n",
      "hdv_PROPN 0.7912818789482117\n",
      "puuv_PROPN 0.7860264778137207\n",
      "hn_PROPN 0.7841053605079651\n",
      "вариабельность_NOUN 0.7817291617393494\n",
      "orf2_NOUN 0.7795565128326416\n",
      "н-ген_PROPN 0.7780325412750244\n",
      "hdag_PROPN 0.7735161781311035\n",
      "антигять_ADJ 0.7715564966201782\n",
      "gp120_NUM 0.7714412212371826\n",
      "\n",
      "\n",
      "эпистемология_NOUN\n",
      "[ 0.010209   -0.056753   -0.00463    -0.011659    0.003115   -0.021539\n",
      "  0.09205401  0.033778    0.041081   -0.060819  ]\n",
      "аксиоматика_NOUN 0.8331590890884399\n",
      "бихевиористский_ADJ 0.8292349576950073\n",
      "куайна_PROPN 0.8030949831008911\n",
      "герменевтический_ADJ 0.7996844053268433\n",
      "дескриптивный_ADJ 0.7993873953819275\n",
      "дистинкция_NOUN 0.7992331981658936\n",
      "постструктурализм_NOUN 0.7983924150466919\n",
      "монизй_NOUN 0.7960401177406311\n",
      "диалектико::-материалистический_ADJ 0.7957665920257568\n",
      "а.::бергсон_PROPN 0.7934030890464783\n",
      "\n",
      "\n"
     ]
    }
   ],
   "source": [
    "for word in words:\n",
    "    # есть ли слово в модели? Может быть, и нет\n",
    "    if word in model:\n",
    "        print(word)\n",
    "        # смотрим на вектор слова (его размерность 300, смотрим на первые 10 чисел)\n",
    "        print(model[word][:10])\n",
    "        # выдаем 10 ближайших соседей слова:\n",
    "        for i in model.most_similar(positive=[word], topn=10):\n",
    "            # слово + коэффициент косинусной близости\n",
    "            print(i[0], i[1])\n",
    "        print('\\n')\n",
    "    else:\n",
    "        # Увы!\n",
    "        print(word + ' is not present in the model')"
   ]
  },
  {
   "cell_type": "code",
   "execution_count": 13,
   "metadata": {},
   "outputs": [
    {
     "name": "stdout",
     "output_type": "stream",
     "text": [
      "0.34239963325\n",
      "0.258767829935\n",
      "0.303320225976\n",
      "0.140924751446\n"
     ]
    }
   ],
   "source": [
    "print(model.similarity('человек_NOUN', 'обезьяна_NOUN'))\n",
    "print(model.similarity('человек_NOUN', 'волк_NOUN'))\n",
    "print(model.similarity('человек_NOUN', 'свинья_NOUN'))\n",
    "print(model.similarity('человек_NOUN', 'огурец_NOUN'))"
   ]
  },
  {
   "cell_type": "code",
   "execution_count": 14,
   "metadata": {},
   "outputs": [
    {
     "name": "stdout",
     "output_type": "stream",
     "text": [
      "картофель_NOUN\n"
     ]
    }
   ],
   "source": [
    "print(model.doesnt_match('яблоко_NOUN груша_NOUN виноград_NOUN банан_NOUN лимон_NOUN картофель_NOUN'.split()))"
   ]
  },
  {
   "cell_type": "code",
   "execution_count": 16,
   "metadata": {},
   "outputs": [
    {
     "name": "stdout",
     "output_type": "stream",
     "text": [
      "чипсы_NOUN\n",
      "повидло_VERB\n"
     ]
    }
   ],
   "source": [
    "print(model.most_similar(positive=['пицца_NOUN', 'россия_NOUN'], negative=['италия_NOUN'])[0][0])\n",
    "print(model.most_similar(positive=['гамбургер_NOUN', 'россия_NOUN'], negative=['америка_NOUN'])[0][0])"
   ]
  },
  {
   "cell_type": "code",
   "execution_count": 21,
   "metadata": {},
   "outputs": [
    {
     "name": "stdout",
     "output_type": "stream",
     "text": [
      "Requirement already satisfied: networkx in c:\\programdata\\anaconda3\\lib\\site-packages\n",
      "Requirement already satisfied: decorator>=3.4.0 in c:\\programdata\\anaconda3\\lib\\site-packages (from networkx)\n"
     ]
    },
    {
     "name": "stderr",
     "output_type": "stream",
     "text": [
      "You are using pip version 9.0.1, however version 10.0.1 is available.\n",
      "You should consider upgrading via the 'python -m pip install --upgrade pip' command.\n"
     ]
    }
   ],
   "source": [
    "pip.main(['install', 'networkx'])\n",
    "import networkx as nx"
   ]
  },
  {
   "cell_type": "code",
   "execution_count": 27,
   "metadata": {
    "collapsed": true
   },
   "outputs": [],
   "source": [
    "nouns = [\"мразь\", \"сволочь\", \"идиот\", \"придурок\", \"чмо\", \"быдло\", \"отморозок\", \"гадёныш\", \"душман\", \"дрянь\", \"мудила\", \"негодяй\", \"скотина\", \"лох\", \"подонок\", \"поганка\", \"пидор\", \"пидарас\", \"козёл\", \"каналья\", \"падла\", \"подстилка\"]"
   ]
  },
  {
   "cell_type": "code",
   "execution_count": 40,
   "metadata": {},
   "outputs": [],
   "source": [
    "G = nx.Graph()\n",
    "for noun in nouns:\n",
    "    if noun + '_NOUN' in model:\n",
    "        G.add_node(noun)\n",
    "        \n",
    "for noun in nouns:\n",
    "    n = noun + '_NOUN' \n",
    "    if n in G:\n",
    "        G.remove_node(n)"
   ]
  },
  {
   "cell_type": "code",
   "execution_count": 41,
   "metadata": {},
   "outputs": [],
   "source": [
    "nodelist = G.nodes()\n",
    "for node1 in nodelist:\n",
    "    n1 = node1 + '_NOUN'\n",
    "    for node2 in nodelist:\n",
    "        n2 = node2 + '_NOUN'\n",
    "        if node2 != node1:\n",
    "            sim = model.similarity(n1, n2)\n",
    "            if sim > 0.5:\n",
    "                G.add_edge(n1, n2, weight=sim)"
   ]
  },
  {
   "cell_type": "code",
   "execution_count": 42,
   "metadata": {},
   "outputs": [
    {
     "data": {
      "image/png": "[encoded data removed]",
      "text/plain": [
       "<matplotlib.figure.Figure at 0x496d256e48>"
      ]
     },
     "metadata": {},
     "output_type": "display_data"
    }
   ],
   "source": [
    "import matplotlib.pyplot as plt \n",
    "\n",
    "# для начала надо выбрать способ \"укладки\" графа. Их много, возьмём для начала такой:\n",
    "pos=nx.spring_layout(G)\n",
    "\n",
    "nx.draw_networkx_nodes(G, pos, node_color='red', node_size=10) \n",
    "nx.draw_networkx_edges(G, pos, edge_color='yellow')\n",
    "nx.draw_networkx_labels(G, pos, font_size=10, font_family='Arial')\n",
    "plt.axis('off') \n",
    "plt.show()\n"
   ]
  },
  {
   "cell_type": "code",
   "execution_count": null,
   "metadata": {
    "collapsed": true
   },
   "outputs": [],
   "source": []
  }
 ],
 "metadata": {
  "kernelspec": {
   "display_name": "Python 3",
   "language": "python",
   "name": "python3"
  },
  "language_info": {
   "codemirror_mode": {
    "name": "ipython",
    "version": 3
   },
   "file_extension": ".py",
   "mimetype": "text/x-python",
   "name": "python",
   "nbconvert_exporter": "python",
   "pygments_lexer": "ipython3",
   "version": "3.6.1"
  }
 },
 "nbformat": 4,
 "nbformat_minor": 2
}
