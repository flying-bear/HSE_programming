{
 "cells": [
  {
   "cell_type": "code",
   "execution_count": 4,
   "metadata": {
    "collapsed": true
   },
   "outputs": [],
   "source": [
    "#imports\n",
    "import sys\n",
    "import gensim, logging\n",
    "from random import choice as choose"
   ]
  },
  {
   "cell_type": "code",
   "execution_count": 14,
   "metadata": {},
   "outputs": [
    {
     "name": "stderr",
     "output_type": "stream",
     "text": [
      "2018-06-12 13:45:08,349 : INFO : loading projection weights from ruscorpora_upos_skipgram_300_5_2018.vec.gz\n",
      "2018-06-12 13:48:51,564 : INFO : loaded (195071, 300) matrix from ruscorpora_upos_skipgram_300_5_2018.vec.gz\n",
      "2018-06-12 13:48:51,564 : INFO : precomputing L2-norms of word weight vectors\n"
     ]
    }
   ],
   "source": [
    "#model_loader\n",
    "logging.basicConfig(format='%(asctime)s : %(levelname)s : %(message)s', level=logging.INFO)\n",
    "m = 'ruscorpora_upos_skipgram_300_5_2018.vec.gz'\n",
    "if m.endswith('.vec.gz'):\n",
    "    model = gensim.models.KeyedVectors.load_word2vec_format(m, binary=False)\n",
    "elif m.endswith('.bin.gz'):\n",
    "    model = gensim.models.KeyedVectors.load_word2vec_format(m, binary=True)\n",
    "else:\n",
    "    model = gensim.models.KeyedVectors.load(m)\n",
    "model.init_sims(replace=True)"
   ]
  },
  {
   "cell_type": "code",
   "execution_count": 64,
   "metadata": {},
   "outputs": [],
   "source": [
    "#code\n",
    "\n",
    "def find_nouns():\n",
    "    nouns = []\n",
    "    for word in model.vocab:\n",
    "        if word.endswith('_NOUN'):\n",
    "            nouns.append(word)\n",
    "    return nouns\n",
    "            \n",
    "    \n",
    "def create_puzzle(words):\n",
    "    word = choose(words).strip('_NOUN')\n",
    "    answer = choose(words).strip('_NOUN')\n",
    "    puzzle = set([word, answer])\n",
    "    counter = 4\n",
    "    for i in model.most_similar(positive=[word + '_NOUN'], topn=20):\n",
    "        if i[0].endswith('_NOUN') and counter:\n",
    "            puzzle = puzzle | set([i[0].strip('_NOUN')])\n",
    "            counter -= 1\n",
    "    return [puzzle, answer]\n",
    "\n",
    "    \n",
    "def main():\n",
    "    nouns = find_nouns()\n",
    "    with open('puzzles.txt', 'w', encoding='utf-8') as f:\n",
    "        for i in range(2000):\n",
    "            f.write(str(create_puzzle(nouns)) + '\\n') \n",
    "    \n",
    "    \n",
    "main()\n",
    "##if __name__ == '__main__':\n",
    "##    main()"
   ]
  },
  {
   "cell_type": "code",
   "execution_count": null,
   "metadata": {
    "collapsed": true
   },
   "outputs": [],
   "source": []
  }
 ],
 "metadata": {
  "kernelspec": {
   "display_name": "Python 3",
   "language": "python",
   "name": "python3"
  },
  "language_info": {
   "codemirror_mode": {
    "name": "ipython",
    "version": 3
   },
   "file_extension": ".py",
   "mimetype": "text/x-python",
   "name": "python",
   "nbconvert_exporter": "python",
   "pygments_lexer": "ipython3",
   "version": "3.6.1"
  }
 },
 "nbformat": 4,
 "nbformat_minor": 2
}
